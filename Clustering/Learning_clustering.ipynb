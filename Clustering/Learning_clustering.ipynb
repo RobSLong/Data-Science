{
 "cells": [
  {
   "cell_type": "code",
   "execution_count": 1,
   "id": "c69cc684",
   "metadata": {},
   "outputs": [],
   "source": [
    "import numpy as np\n",
    "import pandas as pd\n",
    "from scipy.spatial.distance import cdist"
   ]
  },
  {
   "cell_type": "code",
   "execution_count": 2,
   "id": "94f2700c",
   "metadata": {},
   "outputs": [],
   "source": [
    "def kmeans(x, k, Niter):\n",
    "    initloc = np.random.choice(len(x), k, replace=False)\n",
    "    centroids = x[initloc, :]\n",
    "    \n",
    "    dist = cdist(x,centroids, 'euclidean')\n",
    "    points = np.array([np.argmin(i) for i in dist])\n",
    "    \n",
    "    for i in range(Niter):\n",
    "        for initloc in range(k):\n",
    "            temp_cent = x[points==initloc].mean(axis=0)\n",
    "            centroids.append(temp_cent)\n",
    "    \n",
    "    centroids = np.vstack(centroids)\n",
    "    distance = cdist(x,centroids, 'euclidean')\n",
    "    points = np.array([np.argmin(i) for i in distance])\n",
    "    \n",
    "    return points\n",
    "        "
   ]
  },
  {
   "cell_type": "code",
   "execution_count": 3,
   "id": "f189081f",
   "metadata": {},
   "outputs": [],
   "source": [
    "# read-in the excel spreadsheet using pandas \n",
    "df = pd.read_excel('Online_retail.xlsx', sheet_name='Online Retail')\n",
    "\n",
    "# Remove  cancelled orders\n",
    "df = df.loc[df['Quantity'] > 0]\n",
    "\n",
    "# Remove any entries without CustomerID\n",
    "df = df[pd.notnull(df['CustomerID'])]\n",
    "\n",
    "# Remove incomplete month\n",
    "df = df.loc[df['InvoiceDate'] < '2011-12-01']\n",
    "\n",
    "# Calculate total sales from the Quantity and UnitPrice\n",
    "df['Sales'] = df['Quantity'] * df['UnitPrice']\n",
    "\n",
    "# use groupby to aggregate sales by CustomerID\n",
    "customer_df = df.groupby('CustomerID').agg({'Sales': sum, \n",
    "                                            'InvoiceNo': lambda x: x.nunique()})\n",
    "\n",
    "# Select the columns of interest\n",
    "customer_df.columns = ['TotalSales', 'OrderCount'] \n",
    "\n",
    "# create a new column 'AvgOrderValue'\n",
    "customer_df['AvgOrderValue'] = customer_df['TotalSales'] / customer_df['OrderCount']\n",
    "\n",
    "\n",
    "rank_df = customer_df.rank(method='first')\n",
    "# normalized_df = (rank_df - rank_df.mean()) / rank_df.std()\n",
    "normalized_df =  2* (rank_df - rank_df.mean()) / (rank_df.max() - rank_df.min())\n",
    "# normalized_df.head(10)"
   ]
  },
  {
   "cell_type": "code",
   "execution_count": 6,
   "id": "50eb1eab",
   "metadata": {},
   "outputs": [
    {
     "data": {
      "text/plain": [
       "CustomerID\n",
       "12346.0   -1.000000\n",
       "12347.0    0.614615\n",
       "12348.0    0.331161\n",
       "12349.0   -0.999535\n",
       "12350.0   -0.999069\n",
       "             ...   \n",
       "18280.0   -0.285083\n",
       "18281.0   -0.284617\n",
       "18282.0   -0.284152\n",
       "18283.0    0.930184\n",
       "18287.0    0.330696\n",
       "Name: OrderCount, Length: 4298, dtype: float64"
      ]
     },
     "execution_count": 6,
     "metadata": {},
     "output_type": "execute_result"
    }
   ],
   "source": [
    "normalized_df['OrderCount']"
   ]
  },
  {
   "cell_type": "code",
   "execution_count": 7,
   "id": "49a755b2",
   "metadata": {},
   "outputs": [
    {
     "ename": "ValueError",
     "evalue": "Cannot take a larger sample than population when 'replace=False'",
     "output_type": "error",
     "traceback": [
      "\u001b[1;31m---------------------------------------------------------------------------\u001b[0m",
      "\u001b[1;31mValueError\u001b[0m                                Traceback (most recent call last)",
      "\u001b[1;32m~\\AppData\\Local\\Temp\\ipykernel_7972\\1309540229.py\u001b[0m in \u001b[0;36m<module>\u001b[1;34m\u001b[0m\n\u001b[1;32m----> 1\u001b[1;33m \u001b[0mlabel\u001b[0m \u001b[1;33m=\u001b[0m \u001b[0mkmeans\u001b[0m\u001b[1;33m(\u001b[0m\u001b[1;33m[\u001b[0m\u001b[0mnormalized_df\u001b[0m\u001b[1;33m[\u001b[0m\u001b[1;34m'OrderCount'\u001b[0m\u001b[1;33m]\u001b[0m\u001b[1;33m,\u001b[0m\u001b[0mnormalized_df\u001b[0m\u001b[1;33m[\u001b[0m\u001b[1;34m'TotalSales'\u001b[0m\u001b[1;33m]\u001b[0m\u001b[1;33m]\u001b[0m\u001b[1;33m,\u001b[0m \u001b[1;36m4\u001b[0m\u001b[1;33m,\u001b[0m \u001b[1;36m10\u001b[0m\u001b[1;33m)\u001b[0m\u001b[1;33m\u001b[0m\u001b[1;33m\u001b[0m\u001b[0m\n\u001b[0m\u001b[0;32m      2\u001b[0m \u001b[1;33m\u001b[0m\u001b[0m\n\u001b[0;32m      3\u001b[0m \u001b[1;31m#u_labels = np.unique(label)\u001b[0m\u001b[1;33m\u001b[0m\u001b[1;33m\u001b[0m\u001b[0m\n\u001b[0;32m      4\u001b[0m \u001b[1;31m#for i in u_labels:\u001b[0m\u001b[1;33m\u001b[0m\u001b[1;33m\u001b[0m\u001b[0m\n\u001b[0;32m      5\u001b[0m \u001b[1;31m#    plt.scatter(df[label== i, 0], df[label== i, 1], label = i)\u001b[0m\u001b[1;33m\u001b[0m\u001b[1;33m\u001b[0m\u001b[0m\n",
      "\u001b[1;32m~\\AppData\\Local\\Temp\\ipykernel_7972\\3323067767.py\u001b[0m in \u001b[0;36mkmeans\u001b[1;34m(x, k, Niter)\u001b[0m\n\u001b[0;32m      1\u001b[0m \u001b[1;32mdef\u001b[0m \u001b[0mkmeans\u001b[0m\u001b[1;33m(\u001b[0m\u001b[0mx\u001b[0m\u001b[1;33m,\u001b[0m \u001b[0mk\u001b[0m\u001b[1;33m,\u001b[0m \u001b[0mNiter\u001b[0m\u001b[1;33m)\u001b[0m\u001b[1;33m:\u001b[0m\u001b[1;33m\u001b[0m\u001b[1;33m\u001b[0m\u001b[0m\n\u001b[1;32m----> 2\u001b[1;33m     \u001b[0minitloc\u001b[0m \u001b[1;33m=\u001b[0m \u001b[0mnp\u001b[0m\u001b[1;33m.\u001b[0m\u001b[0mrandom\u001b[0m\u001b[1;33m.\u001b[0m\u001b[0mchoice\u001b[0m\u001b[1;33m(\u001b[0m\u001b[0mlen\u001b[0m\u001b[1;33m(\u001b[0m\u001b[0mx\u001b[0m\u001b[1;33m)\u001b[0m\u001b[1;33m,\u001b[0m \u001b[0mk\u001b[0m\u001b[1;33m,\u001b[0m \u001b[0mreplace\u001b[0m\u001b[1;33m=\u001b[0m\u001b[1;32mFalse\u001b[0m\u001b[1;33m)\u001b[0m\u001b[1;33m\u001b[0m\u001b[1;33m\u001b[0m\u001b[0m\n\u001b[0m\u001b[0;32m      3\u001b[0m     \u001b[0mcentroids\u001b[0m \u001b[1;33m=\u001b[0m \u001b[0mx\u001b[0m\u001b[1;33m[\u001b[0m\u001b[0minitloc\u001b[0m\u001b[1;33m,\u001b[0m \u001b[1;33m:\u001b[0m\u001b[1;33m]\u001b[0m\u001b[1;33m\u001b[0m\u001b[1;33m\u001b[0m\u001b[0m\n\u001b[0;32m      4\u001b[0m \u001b[1;33m\u001b[0m\u001b[0m\n\u001b[0;32m      5\u001b[0m     \u001b[0mdist\u001b[0m \u001b[1;33m=\u001b[0m \u001b[0mcdist\u001b[0m\u001b[1;33m(\u001b[0m\u001b[0mx\u001b[0m\u001b[1;33m,\u001b[0m\u001b[0mcentroids\u001b[0m\u001b[1;33m,\u001b[0m \u001b[1;34m'euclidean'\u001b[0m\u001b[1;33m)\u001b[0m\u001b[1;33m\u001b[0m\u001b[1;33m\u001b[0m\u001b[0m\n",
      "\u001b[1;32mmtrand.pyx\u001b[0m in \u001b[0;36mnumpy.random.mtrand.RandomState.choice\u001b[1;34m()\u001b[0m\n",
      "\u001b[1;31mValueError\u001b[0m: Cannot take a larger sample than population when 'replace=False'"
     ]
    }
   ],
   "source": [
    "\n",
    "label = kmeans([normalized_df['OrderCount'],normalized_df['TotalSales']], 4, 10)\n",
    "\n",
    "#u_labels = np.unique(label)\n",
    "#for i in u_labels:\n",
    "#    plt.scatter(df[label== i, 0], df[label== i, 1], label = i)\n",
    "#plt.legend()\n",
    "#plt.grid()\n",
    "#plt.show()"
   ]
  },
  {
   "cell_type": "code",
   "execution_count": null,
   "id": "13970d08",
   "metadata": {},
   "outputs": [],
   "source": []
  }
 ],
 "metadata": {
  "kernelspec": {
   "display_name": "Python 3 (ipykernel)",
   "language": "python",
   "name": "python3"
  },
  "language_info": {
   "codemirror_mode": {
    "name": "ipython",
    "version": 3
   },
   "file_extension": ".py",
   "mimetype": "text/x-python",
   "name": "python",
   "nbconvert_exporter": "python",
   "pygments_lexer": "ipython3",
   "version": "3.9.13"
  }
 },
 "nbformat": 4,
 "nbformat_minor": 5
}
